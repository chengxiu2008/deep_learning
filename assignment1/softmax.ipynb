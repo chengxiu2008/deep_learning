{
 "cells": [
  {
   "cell_type": "markdown",
   "metadata": {},
   "source": [
    "# Softmax exercise\n",
    "\n",
    "*Complete and hand in this completed worksheet (including its outputs and any supporting code outside of the worksheet) with your assignment submission. For more details see the [assignments page](http://vision.stanford.edu/teaching/cs231n/assignments.html) on the course website.*\n",
    "\n",
    "This exercise is analogous to the SVM exercise. You will:\n",
    "\n",
    "- implement a fully-vectorized **loss function** for the Softmax classifier\n",
    "- implement the fully-vectorized expression for its **analytic gradient**\n",
    "- **check your implementation** with numerical gradient\n",
    "- use a validation set to **tune the learning rate and regularization** strength\n",
    "- **optimize** the loss function with **SGD**\n",
    "- **visualize** the final learned weights\n"
   ]
  },
  {
   "cell_type": "code",
   "execution_count": 1,
   "metadata": {},
   "outputs": [],
   "source": [
    "import random\n",
    "import numpy as np\n",
    "from cs231n.data_utils import load_CIFAR10\n",
    "import matplotlib.pyplot as plt\n",
    "\n",
    "from __future__ import print_function\n",
    "\n",
    "%matplotlib inline\n",
    "plt.rcParams['figure.figsize'] = (10.0, 8.0) # set default size of plots\n",
    "plt.rcParams['image.interpolation'] = 'nearest'\n",
    "plt.rcParams['image.cmap'] = 'gray'\n",
    "\n",
    "# for auto-reloading extenrnal modules\n",
    "# see http://stackoverflow.com/questions/1907993/autoreload-of-modules-in-ipython\n",
    "%load_ext autoreload\n",
    "%autoreload 2"
   ]
  },
  {
   "cell_type": "code",
   "execution_count": 2,
   "metadata": {},
   "outputs": [
    {
     "name": "stdout",
     "output_type": "stream",
     "text": [
      "Train data shape:  (49000, 3073)\n",
      "Train labels shape:  (49000,)\n",
      "Validation data shape:  (1000, 3073)\n",
      "Validation labels shape:  (1000,)\n",
      "Test data shape:  (1000, 3073)\n",
      "Test labels shape:  (1000,)\n",
      "dev data shape:  (500, 3073)\n",
      "dev labels shape:  (500,)\n"
     ]
    }
   ],
   "source": [
    "def get_CIFAR10_data(num_training=49000, num_validation=1000, num_test=1000, num_dev=500):\n",
    "    \"\"\"\n",
    "    Load the CIFAR-10 dataset from disk and perform preprocessing to prepare\n",
    "    it for the linear classifier. These are the same steps as we used for the\n",
    "    SVM, but condensed to a single function.  \n",
    "    \"\"\"\n",
    "    # Load the raw CIFAR-10 data\n",
    "    cifar10_dir = 'cs231n/datasets/cifar-10-batches-py'\n",
    "    X_train, y_train, X_test, y_test = load_CIFAR10(cifar10_dir)\n",
    "    \n",
    "    # subsample the data\n",
    "    mask = list(range(num_training, num_training + num_validation))\n",
    "    X_val = X_train[mask]\n",
    "    y_val = y_train[mask]\n",
    "    mask = list(range(num_training))\n",
    "    X_train = X_train[mask]\n",
    "    y_train = y_train[mask]\n",
    "    mask = list(range(num_test))\n",
    "    X_test = X_test[mask]\n",
    "    y_test = y_test[mask]\n",
    "    mask = np.random.choice(num_training, num_dev, replace=False)\n",
    "    X_dev = X_train[mask]\n",
    "    y_dev = y_train[mask]\n",
    "    \n",
    "    # Preprocessing: reshape the image data into rows\n",
    "    X_train = np.reshape(X_train, (X_train.shape[0], -1))\n",
    "    X_val = np.reshape(X_val, (X_val.shape[0], -1))\n",
    "    X_test = np.reshape(X_test, (X_test.shape[0], -1))\n",
    "    X_dev = np.reshape(X_dev, (X_dev.shape[0], -1))\n",
    "    \n",
    "    # Normalize the data: subtract the mean image\n",
    "    mean_image = np.mean(X_train, axis = 0)\n",
    "    X_train -= mean_image\n",
    "    X_val -= mean_image\n",
    "    X_test -= mean_image\n",
    "    X_dev -= mean_image\n",
    "    \n",
    "    # add bias dimension and transform into columns\n",
    "    X_train = np.hstack([X_train, np.ones((X_train.shape[0], 1))])\n",
    "    X_val = np.hstack([X_val, np.ones((X_val.shape[0], 1))])\n",
    "    X_test = np.hstack([X_test, np.ones((X_test.shape[0], 1))])\n",
    "    X_dev = np.hstack([X_dev, np.ones((X_dev.shape[0], 1))])\n",
    "    \n",
    "    return X_train, y_train, X_val, y_val, X_test, y_test, X_dev, y_dev\n",
    "\n",
    "\n",
    "# Invoke the above function to get our data.\n",
    "X_train, y_train, X_val, y_val, X_test, y_test, X_dev, y_dev = get_CIFAR10_data()\n",
    "print('Train data shape: ', X_train.shape)\n",
    "print('Train labels shape: ', y_train.shape)\n",
    "print('Validation data shape: ', X_val.shape)\n",
    "print('Validation labels shape: ', y_val.shape)\n",
    "print('Test data shape: ', X_test.shape)\n",
    "print('Test labels shape: ', y_test.shape)\n",
    "print('dev data shape: ', X_dev.shape)\n",
    "print('dev labels shape: ', y_dev.shape)"
   ]
  },
  {
   "cell_type": "markdown",
   "metadata": {},
   "source": [
    "## Softmax Classifier\n",
    "\n",
    "Your code for this section will all be written inside **cs231n/classifiers/softmax.py**. \n"
   ]
  },
  {
   "cell_type": "code",
   "execution_count": 77,
   "metadata": {},
   "outputs": [
    {
     "name": "stdout",
     "output_type": "stream",
     "text": [
      "loss: 2.280958\n",
      "sanity check: 2.302585\n"
     ]
    }
   ],
   "source": [
    "# First implement the naive softmax loss function with nested loops.\n",
    "# Open the file cs231n/classifiers/softmax.py and implement the\n",
    "# softmax_loss_naive function.|\n",
    "\n",
    "from cs231n.classifiers.softmax import softmax_loss_naive\n",
    "import time\n",
    "\n",
    "# Generate a random softmax weight matrix and use it to compute the loss.\n",
    "W = np.random.randn(3073, 10) * 0.0001\n",
    "loss, grad = softmax_loss_naive(W, X_dev, y_dev, 0.0)\n",
    "\n",
    "# As a rough sanity check, our loss should be something close to -log(0.1).\n",
    "print('loss: %f' % loss)\n",
    "print('sanity check: %f' % (-np.log(0.1)))"
   ]
  },
  {
   "cell_type": "markdown",
   "metadata": {},
   "source": [
    "## Inline Question 1:\n",
    "Why do we expect our loss to be close to -log(0.1)? Explain briefly.**\n",
    "\n",
    "**Your answer:** *Fill this in*\n"
   ]
  },
  {
   "cell_type": "code",
   "execution_count": 78,
   "metadata": {},
   "outputs": [
    {
     "name": "stdout",
     "output_type": "stream",
     "text": [
      "numerical: 0.659005 analytic: 0.659005, relative error: 2.825430e-08\n",
      "numerical: 1.831466 analytic: 1.831466, relative error: 2.103862e-11\n",
      "numerical: 1.238341 analytic: 1.238341, relative error: 3.227400e-08\n",
      "numerical: -4.342052 analytic: -4.342052, relative error: 2.515785e-08\n",
      "numerical: 1.599395 analytic: 1.599395, relative error: 5.255375e-09\n",
      "numerical: 1.232880 analytic: 1.232880, relative error: 5.057859e-08\n",
      "numerical: -0.228723 analytic: -0.228723, relative error: 1.752634e-07\n",
      "numerical: -0.792914 analytic: -0.792914, relative error: 1.617823e-09\n",
      "numerical: 2.291664 analytic: 2.291664, relative error: 1.584222e-08\n",
      "numerical: -0.484591 analytic: -0.484591, relative error: 3.383693e-08\n",
      "numerical: -2.775105 analytic: -2.775105, relative error: 4.540493e-09\n",
      "numerical: 2.354888 analytic: 2.354888, relative error: 2.320926e-08\n",
      "numerical: 1.569817 analytic: 1.569817, relative error: 4.455204e-08\n",
      "numerical: 0.517881 analytic: 0.517881, relative error: 7.721606e-08\n",
      "numerical: -0.220497 analytic: -0.220497, relative error: 2.977011e-07\n",
      "numerical: -0.987365 analytic: -0.987365, relative error: 9.053909e-08\n",
      "numerical: -2.730216 analytic: -2.730216, relative error: 3.899078e-09\n",
      "numerical: 2.018971 analytic: 2.018971, relative error: 1.044412e-08\n",
      "numerical: 0.733704 analytic: 0.733704, relative error: 5.906152e-08\n",
      "numerical: 0.474059 analytic: 0.474059, relative error: 2.820956e-08\n"
     ]
    }
   ],
   "source": [
    "# Complete the implementation of softmax_loss_naive and implement a (naive)\n",
    "# version of the gradient that uses nested loops.\n",
    "loss, grad = softmax_loss_naive(W, X_dev, y_dev, 0.0)\n",
    "\n",
    "# As we did for the SVM, use numeric gradient checking as a debugging tool.\n",
    "# The numeric gradient should be close to the analytic gradient.\n",
    "from cs231n.gradient_check import grad_check_sparse\n",
    "f = lambda w: softmax_loss_naive(w, X_dev, y_dev, 0.0)[0]\n",
    "grad_numerical = grad_check_sparse(f, W, grad, 10)\n",
    "\n",
    "# similar to SVM case, do another gradient check with regularization\n",
    "loss, grad = softmax_loss_naive(W, X_dev, y_dev, 5e1)\n",
    "f = lambda w: softmax_loss_naive(w, X_dev, y_dev, 5e1)[0]\n",
    "grad_numerical = grad_check_sparse(f, W, grad, 10)"
   ]
  },
  {
   "cell_type": "code",
   "execution_count": 112,
   "metadata": {},
   "outputs": [
    {
     "name": "stdout",
     "output_type": "stream",
     "text": [
      "naive loss: 2.280958e+00 computed in 0.026998s\n",
      "[[0.89901606 0.64605774 1.32703781 ... 1.03050174 0.66774076 1.09200515]\n",
      " [0.95362863 1.23110772 1.30079613 ... 1.33148837 1.05941466 0.84899129]\n",
      " [0.71361929 1.38383765 1.08821097 ... 0.49457717 0.69048662 0.87198205]\n",
      " ...\n",
      " [0.94807826 0.77478501 0.9489091  ... 0.90194784 0.73599032 1.0744626 ]\n",
      " [0.68460218 2.54583578 1.1674995  ... 0.94057492 1.32647558 1.47999446]\n",
      " [1.11932962 1.19350415 1.08330057 ... 1.61111355 0.90860274 1.13146638]]\n",
      "vectorized loss: 2.280958e+00 computed in 0.003213s\n",
      "Loss difference: 0.000000\n",
      "Gradient difference: 0.000000\n"
     ]
    }
   ],
   "source": [
    "# Now that we have a naive implementation of the softmax loss function and its gradient,\n",
    "# implement a vectorized version in softmax_loss_vectorized.\n",
    "# The two versions should compute the same results, but the vectorized version should be\n",
    "# much faster.\n",
    "tic = time.time()\n",
    "loss_naive, grad_naive = softmax_loss_naive(W, X_dev, y_dev, 0.000005)\n",
    "toc = time.time()\n",
    "print('naive loss: %e computed in %fs' % (loss_naive, toc - tic))\n",
    "\n",
    "from cs231n.classifiers.softmax import softmax_loss_vectorized\n",
    "tic = time.time()\n",
    "loss_vectorized, grad_vectorized = softmax_loss_vectorized(W, X_dev, y_dev, 0.000005)\n",
    "toc = time.time()\n",
    "print('vectorized loss: %e computed in %fs' % (loss_vectorized, toc - tic))\n",
    "\n",
    "# As we did for the SVM, we use the Frobenius norm to compare the two versions\n",
    "# of the gradient.\n",
    "grad_difference = np.linalg.norm(grad_naive - grad_vectorized, ord='fro')\n",
    "print('Loss difference: %f' % np.abs(loss_naive - loss_vectorized))\n",
    "print('Gradient difference: %f' % grad_difference)"
   ]
  },
  {
   "cell_type": "code",
   "execution_count": 105,
   "metadata": {},
   "outputs": [
    {
     "name": "stdout",
     "output_type": "stream",
     "text": [
      "iteration 0 / 1500: loss 387.257309\n",
      "iteration 100 / 1500: loss 234.303619\n",
      "iteration 200 / 1500: loss 142.473322\n",
      "iteration 300 / 1500: loss 86.782440\n",
      "iteration 400 / 1500: loss 53.424052\n",
      "iteration 500 / 1500: loss 33.092740\n",
      "iteration 600 / 1500: loss 20.828511\n",
      "iteration 700 / 1500: loss 13.366358\n",
      "iteration 800 / 1500: loss 8.902833\n",
      "iteration 900 / 1500: loss 6.182165\n",
      "iteration 1000 / 1500: loss 4.521171\n",
      "iteration 1100 / 1500: loss 3.491750\n",
      "iteration 1200 / 1500: loss 2.963483\n",
      "iteration 1300 / 1500: loss 2.598776\n",
      "iteration 1400 / 1500: loss 2.417417\n",
      "That took 2.684040s\n"
     ]
    }
   ],
   "source": [
    "# In the file linear_classifier.py, implement SGD in the function\n",
    "# LinearClassifier.train() and then run it with the code below.\n",
    "from cs231n.classifiers import Softmax\n",
    "softmax = Softmax()\n",
    "tic = time.time()\n",
    "loss_hist = softmax.train(X_train, y_train, learning_rate=1e-7, reg=2.5e4,\n",
    "                      num_iters=1500, verbose=True)\n",
    "toc = time.time()\n",
    "print('That took %fs' % (toc - tic))\n",
    "\n"
   ]
  },
  {
   "cell_type": "code",
   "execution_count": 106,
   "metadata": {},
   "outputs": [
    {
     "data": {
      "text/plain": [
       "[<matplotlib.lines.Line2D at 0x181259e7f0>]"
      ]
     },
     "execution_count": 106,
     "metadata": {},
     "output_type": "execute_result"
    },
    {
     "data": {
      "image/png": "[encoded data removed]",
      "text/plain": [
       "<matplotlib.figure.Figure at 0x182495e780>"
      ]
     },
     "metadata": {},
     "output_type": "display_data"
    }
   ],
   "source": [
    "plt.plot(loss_hist)"
   ]
  },
  {
   "cell_type": "code",
   "execution_count": 107,
   "metadata": {},
   "outputs": [
    {
     "name": "stdout",
     "output_type": "stream",
     "text": [
      "----------Hyperparameter combination----------\n",
      "learning_rate:  1e-07\n",
      "reg:  25000.0\n",
      "iteration 0 / 2000: loss 390.432142\n",
      "iteration 100 / 2000: loss 235.476289\n",
      "iteration 200 / 2000: loss 142.930749\n",
      "iteration 300 / 2000: loss 87.271199\n",
      "iteration 400 / 2000: loss 53.578418\n",
      "iteration 500 / 2000: loss 33.219903\n",
      "iteration 600 / 2000: loss 20.913204\n",
      "iteration 700 / 2000: loss 13.461742\n",
      "iteration 800 / 2000: loss 8.933862\n",
      "iteration 900 / 2000: loss 6.176986\n",
      "iteration 1000 / 2000: loss 4.570263\n",
      "iteration 1100 / 2000: loss 3.554457\n",
      "iteration 1200 / 2000: loss 2.983497\n",
      "iteration 1300 / 2000: loss 2.628031\n",
      "iteration 1400 / 2000: loss 2.288296\n",
      "iteration 1500 / 2000: loss 2.235869\n",
      "iteration 1600 / 2000: loss 2.113577\n",
      "iteration 1700 / 2000: loss 2.078857\n",
      "iteration 1800 / 2000: loss 2.069457\n",
      "iteration 1900 / 2000: loss 2.021294\n",
      "training accuracy: 0.351102\n",
      "validation accuracy: 0.368000\n",
      "----------Hyperparameter combination----------\n",
      "learning_rate:  1e-07\n",
      "reg:  50000.0\n",
      "iteration 0 / 2000: loss 772.048927\n",
      "iteration 100 / 2000: loss 283.241978\n",
      "iteration 200 / 2000: loss 104.983227\n",
      "iteration 300 / 2000: loss 39.792960\n",
      "iteration 400 / 2000: loss 15.911213\n",
      "iteration 500 / 2000: loss 7.134272\n",
      "iteration 600 / 2000: loss 3.912497\n",
      "iteration 700 / 2000: loss 2.766197\n",
      "iteration 800 / 2000: loss 2.321987\n",
      "iteration 900 / 2000: loss 2.202330\n",
      "iteration 1000 / 2000: loss 2.102828\n",
      "iteration 1100 / 2000: loss 2.100380\n",
      "iteration 1200 / 2000: loss 2.119803\n",
      "iteration 1300 / 2000: loss 2.142177\n",
      "iteration 1400 / 2000: loss 2.116482\n",
      "iteration 1500 / 2000: loss 2.131229\n",
      "iteration 1600 / 2000: loss 2.070924\n",
      "iteration 1700 / 2000: loss 2.036666\n",
      "iteration 1800 / 2000: loss 2.060660\n",
      "iteration 1900 / 2000: loss 2.098426\n",
      "training accuracy: 0.331388\n",
      "validation accuracy: 0.350000\n",
      "----------Hyperparameter combination----------\n",
      "learning_rate:  5e-07\n",
      "reg:  25000.0\n",
      "iteration 0 / 2000: loss 397.320818\n",
      "iteration 100 / 2000: loss 33.405267\n",
      "iteration 200 / 2000: loss 4.602942\n",
      "iteration 300 / 2000: loss 2.268846\n",
      "iteration 400 / 2000: loss 2.124755\n",
      "iteration 500 / 2000: loss 2.055940\n",
      "iteration 600 / 2000: loss 2.062940\n",
      "iteration 700 / 2000: loss 2.054646\n",
      "iteration 800 / 2000: loss 2.054601\n",
      "iteration 900 / 2000: loss 2.039854\n",
      "iteration 1000 / 2000: loss 2.037720\n",
      "iteration 1100 / 2000: loss 1.994963\n",
      "iteration 1200 / 2000: loss 2.070588\n",
      "iteration 1300 / 2000: loss 2.030956\n",
      "iteration 1400 / 2000: loss 2.057489\n",
      "iteration 1500 / 2000: loss 2.016573\n",
      "iteration 1600 / 2000: loss 2.082101\n",
      "iteration 1700 / 2000: loss 2.116478\n",
      "iteration 1800 / 2000: loss 2.048433\n",
      "iteration 1900 / 2000: loss 1.997361\n",
      "training accuracy: 0.351837\n",
      "validation accuracy: 0.363000\n",
      "----------Hyperparameter combination----------\n",
      "learning_rate:  5e-07\n",
      "reg:  50000.0\n",
      "iteration 0 / 2000: loss 775.469574\n",
      "iteration 100 / 2000: loss 6.957556\n",
      "iteration 200 / 2000: loss 2.069658\n",
      "iteration 300 / 2000: loss 2.096523\n",
      "iteration 400 / 2000: loss 2.086446\n",
      "iteration 500 / 2000: loss 2.101061\n",
      "iteration 600 / 2000: loss 2.090065\n",
      "iteration 700 / 2000: loss 2.108824\n",
      "iteration 800 / 2000: loss 2.092684\n",
      "iteration 900 / 2000: loss 2.107507\n",
      "iteration 1000 / 2000: loss 2.106724\n",
      "iteration 1100 / 2000: loss 2.136491\n",
      "iteration 1200 / 2000: loss 2.017885\n",
      "iteration 1300 / 2000: loss 2.104520\n",
      "iteration 1400 / 2000: loss 2.080425\n",
      "iteration 1500 / 2000: loss 2.112462\n",
      "iteration 1600 / 2000: loss 2.088172\n",
      "iteration 1700 / 2000: loss 2.122401\n",
      "iteration 1800 / 2000: loss 2.076887\n",
      "iteration 1900 / 2000: loss 2.086932\n",
      "training accuracy: 0.325061\n",
      "validation accuracy: 0.342000\n",
      "lr 1.000000e-07 reg 2.500000e+04 train accuracy: 0.351102 val accuracy: 0.368000\n",
      "lr 1.000000e-07 reg 5.000000e+04 train accuracy: 0.331388 val accuracy: 0.350000\n",
      "lr 5.000000e-07 reg 2.500000e+04 train accuracy: 0.351837 val accuracy: 0.363000\n",
      "lr 5.000000e-07 reg 5.000000e+04 train accuracy: 0.325061 val accuracy: 0.342000\n",
      "best validation accuracy achieved during cross-validation: 0.368000\n"
     ]
    },
    {
     "data": {
      "image/png": "[encoded data removed]",
      "text/plain": [
       "<matplotlib.figure.Figure at 0x1826c397b8>"
      ]
     },
     "metadata": {},
     "output_type": "display_data"
    }
   ],
   "source": [
    "# Use the validation set to tune hyperparameters (regularization strength and\n",
    "# learning rate). You should experiment with different ranges for the learning\n",
    "# rates and regularization strengths; if you are careful you should be able to\n",
    "# get a classification accuracy of over 0.35 on the validation set.\n",
    "from cs231n.classifiers import Softmax\n",
    "results = {}\n",
    "best_val = -1\n",
    "best_softmax = None\n",
    "learning_rates = [1e-7, 5e-7]\n",
    "regularization_strengths = [2.5e4, 5e4]\n",
    "\n",
    "################################################################################\n",
    "# TODO:                                                                        #\n",
    "# Use the validation set to set the learning rate and regularization strength. #\n",
    "# This should be identical to the validation that you did for the SVM; save    #\n",
    "# the best trained softmax classifer in best_softmax.                          #\n",
    "################################################################################\n",
    "for learning_rate in learning_rates:\n",
    "    for reg in regularization_strengths:\n",
    "        print(\"----------Hyperparameter combination----------\")        \n",
    "        print(\"learning_rate: \", learning_rate)\n",
    "        print(\"reg: \",reg)\n",
    "        \n",
    "        softmax = Softmax()\n",
    "        loss_hist = softmax.train(X_train, y_train, learning_rate, reg, num_iters=2000, verbose=True)\n",
    "        y_train_pred = softmax.predict(X_train)\n",
    "        train_acc = np.mean(y_train == y_train_pred)\n",
    "        print('training accuracy: %f' % (train_acc, ))\n",
    "        y_val_pred = softmax.predict(X_val)\n",
    "        val_acc = np.mean(y_val == y_val_pred)\n",
    "        if best_val < val_acc:\n",
    "            best_val = val_acc\n",
    "            best_softmax = softmax\n",
    "        print('validation accuracy: %f' % (val_acc, ))\n",
    "        results[(learning_rate, reg)] =  (train_acc, val_acc)\n",
    "#         plt.plot(loss_hist)\n",
    "        \n",
    "\n",
    "################################################################################\n",
    "#                              END OF YOUR CODE                                #\n",
    "################################################################################\n",
    "    \n",
    "# Print out results.\n",
    "for lr, reg in sorted(results):\n",
    "    train_accuracy, val_accuracy = results[(lr, reg)]\n",
    "    print('lr %e reg %e train accuracy: %f val accuracy: %f' % (\n",
    "                lr, reg, train_accuracy, val_accuracy))\n",
    "    \n",
    "print('best validation accuracy achieved during cross-validation: %f' % best_val)"
   ]
  },
  {
   "cell_type": "code",
   "execution_count": 108,
   "metadata": {},
   "outputs": [
    {
     "name": "stdout",
     "output_type": "stream",
     "text": [
      "softmax on raw pixels final test set accuracy: 0.360000\n"
     ]
    }
   ],
   "source": [
    "# evaluate on test set\n",
    "# Evaluate the best softmax on test set\n",
    "y_test_pred = best_softmax.predict(X_test)\n",
    "test_accuracy = np.mean(y_test == y_test_pred)\n",
    "print('softmax on raw pixels final test set accuracy: %f' % (test_accuracy, ))"
   ]
  },
  {
   "cell_type": "code",
   "execution_count": 102,
   "metadata": {},
   "outputs": [
    {
     "data": {
      "image/png": "[encoded data removed]",
      "text/plain": [
       "<matplotlib.figure.Figure at 0x18131ae048>"
      ]
     },
     "metadata": {},
     "output_type": "display_data"
    }
   ],
   "source": [
    "# Visualize the learned weights for each class\n",
    "w = best_softmax.W[:-1,:] # strip out the bias\n",
    "w = w.reshape(32, 32, 3, 10)\n",
    "\n",
    "w_min, w_max = np.min(w), np.max(w)\n",
    "\n",
    "classes = ['plane', 'car', 'bird', 'cat', 'deer', 'dog', 'frog', 'horse', 'ship', 'truck']\n",
    "for i in range(10):\n",
    "    plt.subplot(2, 5, i + 1)\n",
    "    \n",
    "    # Rescale the weights to be between 0 and 255\n",
    "    wimg = 255.0 * (w[:, :, :, i].squeeze() - w_min) / (w_max - w_min)\n",
    "    plt.imshow(wimg.astype('uint8'))\n",
    "    plt.axis('off')\n",
    "    plt.title(classes[i])"
   ]
  },
  {
   "cell_type": "code",
   "execution_count": null,
   "metadata": {},
   "outputs": [],
   "source": []
  }
 ],
 "metadata": {
  "kernelspec": {
   "display_name": "Python 3",
   "language": "python",
   "name": "python3"
  },
  "language_info": {
   "codemirror_mode": {
    "name": "ipython",
    "version": 3
   },
   "file_extension": ".py",
   "mimetype": "text/x-python",
   "name": "python",
   "nbconvert_exporter": "python",
   "pygments_lexer": "ipython3",
   "version": "3.6.4"
  }
 },
 "nbformat": 4,
 "nbformat_minor": 1
}
